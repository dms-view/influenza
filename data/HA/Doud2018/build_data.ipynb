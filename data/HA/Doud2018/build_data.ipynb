{
 "cells": [
  {
   "cell_type": "markdown",
   "metadata": {},
   "source": [
    "# Data Wrangling for [Doud, Lee, and Bloom (2016)](https://research.fhcrc.org/content/dam/stripe/bloom/labfiles/publications/Doud2018.pdf)\n",
    "\n",
    "Mutational Antigenic Profiling of influenza monoclonal antibodies."
   ]
  },
  {
   "cell_type": "markdown",
   "metadata": {},
   "source": [
    "## notebook setup"
   ]
  },
  {
   "cell_type": "code",
   "execution_count": 1,
   "metadata": {},
   "outputs": [],
   "source": [
    "import pandas as pd"
   ]
  },
  {
   "cell_type": "markdown",
   "metadata": {},
   "source": [
    "## mutational antigenic profiling data"
   ]
  },
  {
   "cell_type": "code",
   "execution_count": 2,
   "metadata": {},
   "outputs": [
    {
     "data": {
      "text/html": [
       "<div>\n",
       "<style scoped>\n",
       "    .dataframe tbody tr th:only-of-type {\n",
       "        vertical-align: middle;\n",
       "    }\n",
       "\n",
       "    .dataframe tbody tr th {\n",
       "        vertical-align: top;\n",
       "    }\n",
       "\n",
       "    .dataframe thead th {\n",
       "        text-align: right;\n",
       "    }\n",
       "</style>\n",
       "<table border=\"1\" class=\"dataframe\">\n",
       "  <thead>\n",
       "    <tr style=\"text-align: right;\">\n",
       "      <th></th>\n",
       "      <th>label_site</th>\n",
       "      <th>site_avg excess frac survive</th>\n",
       "      <th>site_max excess frac survive</th>\n",
       "      <th>wildtype</th>\n",
       "      <th>mutation</th>\n",
       "      <th>mut_excess frac survive</th>\n",
       "      <th>condition</th>\n",
       "      <th>site</th>\n",
       "      <th>protein_chain</th>\n",
       "      <th>protein_site</th>\n",
       "    </tr>\n",
       "  </thead>\n",
       "  <tbody>\n",
       "    <tr>\n",
       "      <th>0</th>\n",
       "      <td>(HA2)1</td>\n",
       "      <td>0.000006</td>\n",
       "      <td>0.000119</td>\n",
       "      <td>G</td>\n",
       "      <td>R</td>\n",
       "      <td>1.190530e-04</td>\n",
       "      <td>C179</td>\n",
       "      <td>344</td>\n",
       "      <td>B D F</td>\n",
       "      <td>501</td>\n",
       "    </tr>\n",
       "    <tr>\n",
       "      <th>1</th>\n",
       "      <td>(HA2)1</td>\n",
       "      <td>0.000006</td>\n",
       "      <td>0.000119</td>\n",
       "      <td>G</td>\n",
       "      <td>G</td>\n",
       "      <td>9.322773e-07</td>\n",
       "      <td>C179</td>\n",
       "      <td>344</td>\n",
       "      <td>B D F</td>\n",
       "      <td>501</td>\n",
       "    </tr>\n",
       "    <tr>\n",
       "      <th>2</th>\n",
       "      <td>(HA2)1</td>\n",
       "      <td>0.000006</td>\n",
       "      <td>0.000119</td>\n",
       "      <td>G</td>\n",
       "      <td>A</td>\n",
       "      <td>0.000000e+00</td>\n",
       "      <td>C179</td>\n",
       "      <td>344</td>\n",
       "      <td>B D F</td>\n",
       "      <td>501</td>\n",
       "    </tr>\n",
       "    <tr>\n",
       "      <th>3</th>\n",
       "      <td>(HA2)1</td>\n",
       "      <td>0.000006</td>\n",
       "      <td>0.000119</td>\n",
       "      <td>G</td>\n",
       "      <td>M</td>\n",
       "      <td>0.000000e+00</td>\n",
       "      <td>C179</td>\n",
       "      <td>344</td>\n",
       "      <td>B D F</td>\n",
       "      <td>501</td>\n",
       "    </tr>\n",
       "    <tr>\n",
       "      <th>4</th>\n",
       "      <td>(HA2)1</td>\n",
       "      <td>0.000006</td>\n",
       "      <td>0.000119</td>\n",
       "      <td>G</td>\n",
       "      <td>D</td>\n",
       "      <td>0.000000e+00</td>\n",
       "      <td>C179</td>\n",
       "      <td>344</td>\n",
       "      <td>B D F</td>\n",
       "      <td>501</td>\n",
       "    </tr>\n",
       "  </tbody>\n",
       "</table>\n",
       "</div>"
      ],
      "text/plain": [
       "  label_site  site_avg excess frac survive  site_max excess frac survive  \\\n",
       "0     (HA2)1                      0.000006                      0.000119   \n",
       "1     (HA2)1                      0.000006                      0.000119   \n",
       "2     (HA2)1                      0.000006                      0.000119   \n",
       "3     (HA2)1                      0.000006                      0.000119   \n",
       "4     (HA2)1                      0.000006                      0.000119   \n",
       "\n",
       "  wildtype mutation  mut_excess frac survive condition  site protein_chain  \\\n",
       "0        G        R             1.190530e-04      C179   344         B D F   \n",
       "1        G        G             9.322773e-07      C179   344         B D F   \n",
       "2        G        A             0.000000e+00      C179   344         B D F   \n",
       "3        G        M             0.000000e+00      C179   344         B D F   \n",
       "4        G        D             0.000000e+00      C179   344         B D F   \n",
       "\n",
       "  protein_site  \n",
       "0          501  \n",
       "1          501  \n",
       "2          501  \n",
       "3          501  \n",
       "4          501  "
      ]
     },
     "execution_count": 2,
     "metadata": {},
     "output_type": "execute_result"
    }
   ],
   "source": [
    "antibodies = ['C179', 'FI6v3', 'H17L7', 'H17L10', 'H17L19', 'S139']\n",
    "\n",
    "df = []\n",
    "for condition in antibodies:\n",
    "    mut = pd.read_csv(f'antibody_{condition}_median.csv')\n",
    "    site = pd.read_csv(f'antibody_{condition}_median_avgsite.csv')\n",
    "    \n",
    "    # process the site \n",
    "    site.columns = [x if x == 'site' else f\"site_{x[:3]} excess frac survive\" for x in site.columns.values]\n",
    "    \n",
    "    # process the mut\n",
    "    mut = mut.rename(columns={'mutfracsurvive': 'mut_excess frac survive'})\n",
    "    \n",
    "    # together\n",
    "    df.append(pd.merge(site, mut, on=['site']).assign(condition=condition))\n",
    "df = pd.concat(df).rename(columns={'site': 'label_site'})\n",
    "l = len(df)\n",
    "\n",
    "# numbering\n",
    "m = pd.read_csv('numbering_map.csv').rename(columns={'original': 'site', 'new': 'label_site'})\n",
    "m['protein_chain'] = m['label_site'].apply(lambda x: 'B D F' if 'HA2' in x else 'A C E')\n",
    "m['protein_site'] = m['label_site'].apply(lambda x: int(x[5: ]) + 500 if 'HA2' in x else x)\n",
    "df = pd.merge(df, m, on='label_site', how='left')\n",
    "\n",
    "df.head()"
   ]
  },
  {
   "cell_type": "code",
   "execution_count": 3,
   "metadata": {},
   "outputs": [],
   "source": [
    "df.to_csv('Doud2018.csv', index=False)"
   ]
  }
 ],
 "metadata": {
  "kernelspec": {
   "display_name": "Python 3",
   "language": "python",
   "name": "python3"
  },
  "language_info": {
   "codemirror_mode": {
    "name": "ipython",
    "version": 3
   },
   "file_extension": ".py",
   "mimetype": "text/x-python",
   "name": "python",
   "nbconvert_exporter": "python",
   "pygments_lexer": "ipython3",
   "version": "3.7.3"
  }
 },
 "nbformat": 4,
 "nbformat_minor": 2
}
